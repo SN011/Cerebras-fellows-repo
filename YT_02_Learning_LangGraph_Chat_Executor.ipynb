{
 "cells": [
  {
   "cell_type": "markdown",
   "metadata": {
    "id": "E5TwMbBvpk4K"
   },
   "source": [
    "# 02. Learning LangGraph - Chat Executor"
   ]
  },
  {
   "cell_type": "markdown",
   "metadata": {
    "id": "BL-NMZ7ve3Sl"
   },
   "source": [
    "modified from https://github.com/langchain-ai/langgraph/blob/main/examples/chat_agent_executor_with_function_calling/base.ipynb"
   ]
  },
  {
   "cell_type": "code",
   "execution_count": 1,
   "metadata": {
    "id": "guac0Zh7Gz4Q"
   },
   "outputs": [],
   "source": [
    "import os\n",
    "from dotenv import load_dotenv\n",
    "\n",
    "os.environ[\"LANGCHAIN_TRACING_V2\"] = \"true\"\n",
    "os.environ[\"LANGCHAIN_API_KEY\"] = os.getenv('LANGSMITH_API_KEY')\n",
    "os.environ[\"LANGCHAIN_PROJECT\"] = \"LangGraph_01\""
   ]
  },
  {
   "cell_type": "markdown",
   "metadata": {
    "id": "nGkci88EkVwj"
   },
   "source": [
    "## The model"
   ]
  },
  {
   "cell_type": "code",
   "execution_count": 3,
   "metadata": {
    "id": "58MBHiikkQDb"
   },
   "outputs": [],
   "source": [
    "from langchain import hub\n",
    "from langchain.agents import create_structured_chat_agent\n",
    "from tools.initialize_cerebras import init_cerebras\n",
    "\n",
    "# Get the prompt to use - you can modify this!\n",
    "prompt = hub.pull(\"hwchase17/structured-chat-agent\")\n",
    "\n",
    "# Choose the LLM that will drive the agent\n",
    "client, llm = init_cerebras()\n"
   ]
  },
  {
   "cell_type": "markdown",
   "metadata": {
    "id": "2_I3howTkdUw"
   },
   "source": [
    "## Tools"
   ]
  },
  {
   "cell_type": "code",
   "execution_count": 4,
   "metadata": {
    "id": "OLeIVeaEJltj"
   },
   "outputs": [],
   "source": [
    "from langchain.tools import BaseTool, StructuredTool, Tool, tool\n",
    "import random\n",
    "\n",
    "@tool(\"lower_case\", return_direct=True)\n",
    "def to_lower_case(input:str) -> str:\n",
    "  \"\"\"Returns the input as all lower case.\"\"\"\n",
    "  return input.lower()\n",
    "\n",
    "@tool(\"random_number\", return_direct=True)\n",
    "def random_number_maker(input:str) -> str:\n",
    "    \"\"\"Returns a random number between 0-100. input the word 'random'\"\"\"\n",
    "    return random.randint(0, 100)\n",
    "\n",
    "tools = [to_lower_case,random_number_maker]"
   ]
  },
  {
   "cell_type": "code",
   "execution_count": 14,
   "metadata": {
    "id": "IQkcYH78mRmk"
   },
   "outputs": [
    {
     "name": "stderr",
     "output_type": "stream",
     "text": [
      "C:\\Users\\ncvn\\AppData\\Local\\Temp\\ipykernel_12644\\3389706677.py:3: LangGraphDeprecationWarning: ToolExecutor is deprecated as of version 0.2.0 and will be removed in 0.3.0. Use langgraph.prebuilt.ToolNode instead.\n",
      "  tool_executor = ToolExecutor(tools)\n"
     ]
    }
   ],
   "source": [
    "from langgraph.prebuilt.tool_executor import ToolExecutor\n",
    "\n",
    "tool_executor = ToolExecutor(tools)"
   ]
  },
  {
   "cell_type": "code",
   "execution_count": 13,
   "metadata": {
    "id": "aqJWD8X1ke5q"
   },
   "outputs": [],
   "source": [
    "# from langchain.tools.render import render_text_description\n",
    "\n",
    "# functions = [render_text_description(t) for t in tools]\n",
    "# model = llm.bind_functions(functions)"
   ]
  },
  {
   "cell_type": "markdown",
   "metadata": {
    "id": "DRyUkY3cktGP"
   },
   "source": [
    "## AgentState"
   ]
  },
  {
   "cell_type": "code",
   "execution_count": 15,
   "metadata": {
    "id": "I1H-xbWNkpSv"
   },
   "outputs": [],
   "source": [
    "from typing import TypedDict, Annotated, Sequence\n",
    "import operator\n",
    "from langchain_core.messages import BaseMessage\n",
    "\n",
    "\n",
    "class AgentState(TypedDict):\n",
    "    messages: Annotated[Sequence[BaseMessage], operator.add]"
   ]
  },
  {
   "cell_type": "markdown",
   "metadata": {
    "id": "FbQtOmzQk27f"
   },
   "source": [
    "## Nodes"
   ]
  },
  {
   "cell_type": "code",
   "execution_count": 20,
   "metadata": {
    "id": "2HoxaGZbkvi5"
   },
   "outputs": [],
   "source": [
    "from langchain_core.agents import AgentFinish\n",
    "from langgraph.prebuilt import ToolInvocation\n",
    "import json\n",
    "from langchain_core.messages import FunctionMessage\n",
    "\n",
    "# Define the function that determines whether to continue or not\n",
    "def should_continue(state):\n",
    "    messages = state['messages']\n",
    "    last_message = messages[-1]\n",
    "    # If there is no function call, then we finish\n",
    "    if \"function_call\" not in last_message.additional_kwargs:\n",
    "        return \"end\"\n",
    "    # Otherwise if there is, we continue\n",
    "    else:\n",
    "        return \"continue\"\n",
    "\n",
    "# Define the function that calls the model\n",
    "def call_model(state):\n",
    "    messages = state['messages']\n",
    "    response = llm.invoke(messages)\n",
    "    # We return a list, because this will get added to the existing list\n",
    "    return {\"messages\": [response]}\n",
    "\n",
    "# Define the function to execute tools\n",
    "def call_tool(state):\n",
    "    messages = state['messages']\n",
    "    # Based on the continue condition\n",
    "    # we know the last message involves a function call\n",
    "    last_message = messages[-1]\n",
    "    # We construct an ToolInvocation from the function_call\n",
    "    action = ToolInvocation(\n",
    "        tool=last_message.additional_kwargs[\"function_call\"][\"name\"],\n",
    "        tool_input=json.loads(last_message.additional_kwargs[\"function_call\"][\"arguments\"]),\n",
    "    )\n",
    "    print(f\"The agent action is {action}\")\n",
    "    # We call the tool_executor and get back a response\n",
    "    response = tool_executor.invoke(action)\n",
    "    print(f\"The tool result is: {response}\")\n",
    "    # We use the response to create a FunctionMessage\n",
    "    function_message = FunctionMessage(content=str(response), name=action.tool)\n",
    "    # We return a list, because this will get added to the existing list\n",
    "    return {\"messages\": [function_message]}"
   ]
  },
  {
   "cell_type": "markdown",
   "metadata": {
    "id": "UvaLZp3jlM9F"
   },
   "source": [
    "## Graph"
   ]
  },
  {
   "cell_type": "code",
   "execution_count": 21,
   "metadata": {
    "id": "2Vxw2TOClGYm"
   },
   "outputs": [],
   "source": [
    "from langgraph.graph import StateGraph, END\n",
    "# Define a new graph\n",
    "workflow = StateGraph(AgentState)\n",
    "\n",
    "# Define the two nodes we will cycle between\n",
    "workflow.add_node(\"agent\", call_model)\n",
    "workflow.add_node(\"action\", call_tool)\n",
    "\n",
    "# Set the entrypoint as `agent` where we start\n",
    "workflow.set_entry_point(\"agent\")\n",
    "\n",
    "# We now add a conditional edge\n",
    "workflow.add_conditional_edges(\n",
    "    # First, we define the start node. We use `agent`.\n",
    "    # This means these are the edges taken after the `agent` node is called.\n",
    "    \"agent\",\n",
    "    # Next, we pass in the function that will determine which node is called next.\n",
    "    should_continue,\n",
    "    # Finally we pass in a mapping.\n",
    "    # The keys are strings, and the values are other nodes.\n",
    "    # END is a special node marking that the graph should finish.\n",
    "    # What will happen is we will call `should_continue`, and then the output of that\n",
    "    # will be matched against the keys in this mapping.\n",
    "    # Based on which one it matches, that node will then be called.\n",
    "    {\n",
    "        # If `tools`, then we call the tool node.\n",
    "        \"continue\": \"action\",\n",
    "        # Otherwise we finish.\n",
    "        \"end\": END\n",
    "    }\n",
    ")\n",
    "\n",
    "# We now add a normal edge from `tools` to `agent`.\n",
    "# This means that after `tools` is called, `agent` node is called next.\n",
    "workflow.add_edge('action', 'agent')\n",
    "\n",
    "# Finally, we compile it!\n",
    "# This compiles it into a LangChain Runnable,\n",
    "# meaning you can use it as you would any other runnable\n",
    "app = workflow.compile()"
   ]
  },
  {
   "cell_type": "markdown",
   "metadata": {
    "id": "AAVFBk3GlY5-"
   },
   "source": [
    "## Run it"
   ]
  },
  {
   "cell_type": "code",
   "execution_count": 22,
   "metadata": {
    "colab": {
     "base_uri": "https://localhost:8080/"
    },
    "id": "ELSoxDK_lRO_",
    "outputId": "5882db0a-eeea-4094-ee36-d21ca8d0e46c"
   },
   "outputs": [
    {
     "data": {
      "text/plain": [
       "{'messages': [SystemMessage(content='you are a helpful assistant', additional_kwargs={}, response_metadata={}),\n",
       "  HumanMessage(content='give me a random number and then write in words and make it lower case', additional_kwargs={}, response_metadata={}),\n",
       "  AIMessage(content='the random number is: 854\\n\\neight hundred fifty-four', additional_kwargs={}, response_metadata={'finish_reason': 'stop', 'model_name': 'llama3.1-70b', 'system_fingerprint': 'fp_fe26f95222'}, id='run-83e27441-9e57-4be5-8ed5-4d7ffbbdf21c-0', usage_metadata={'input_tokens': 55, 'output_tokens': 13, 'total_tokens': 68, 'input_token_details': {}, 'output_token_details': {}})]}"
      ]
     },
     "execution_count": 22,
     "metadata": {},
     "output_type": "execute_result"
    }
   ],
   "source": [
    "from langchain_core.messages import HumanMessage, SystemMessage\n",
    "# inputs = {\"input\": \"give me a random number and then write in words and make it lower case\", \"chat_history\": []}\n",
    "\n",
    "system_message = SystemMessage(content=\"you are a helpful assistant\")\n",
    "user_01 = HumanMessage(content=\"give me a random number and then write in words and make it lower case\")\n",
    "# user_01 = HumanMessage(content=\"plear write 'Merlion' in lower case\")\n",
    "# user_01 = HumanMessage(content=\"what is a Merlion?\")\n",
    "\n",
    "inputs = {\"messages\": [system_message,user_01]}\n",
    "\n",
    "app.invoke(inputs)"
   ]
  },
  {
   "cell_type": "code",
   "execution_count": 23,
   "metadata": {
    "colab": {
     "base_uri": "https://localhost:8080/"
    },
    "id": "bhW-wd2Olh6H",
    "outputId": "30b3aa2b-f74a-4956-ca91-39b5caf8d9ee"
   },
   "outputs": [
    {
     "data": {
      "text/plain": [
       "{'messages': [SystemMessage(content='you are a helpful assistant', additional_kwargs={}, response_metadata={}),\n",
       "  HumanMessage(content=\"plear write 'Merlion' in lower case\", additional_kwargs={}, response_metadata={}),\n",
       "  AIMessage(content='merlion', additional_kwargs={}, response_metadata={'finish_reason': 'stop', 'model_name': 'llama3.1-70b', 'system_fingerprint': 'fp_fe26f95222'}, id='run-c8d610c8-9e59-4b78-a473-e5e7ab65918c-0', usage_metadata={'input_tokens': 50, 'output_tokens': 3, 'total_tokens': 53, 'input_token_details': {}, 'output_token_details': {}})]}"
      ]
     },
     "execution_count": 23,
     "metadata": {},
     "output_type": "execute_result"
    }
   ],
   "source": [
    "from langchain_core.messages import HumanMessage, SystemMessage\n",
    "# inputs = {\"input\": \"give me a random number and then write in words and make it lower case\", \"chat_history\": []}\n",
    "\n",
    "system_message = SystemMessage(content=\"you are a helpful assistant\")\n",
    "# user_01 = HumanMessage(content=\"give me a random number and then write in words and make it lower case\")\n",
    "user_01 = HumanMessage(content=\"plear write 'Merlion' in lower case\")\n",
    "# user_01 = HumanMessage(content=\"what is a Merlion?\")\n",
    "\n",
    "inputs = {\"messages\": [system_message,user_01]}\n",
    "\n",
    "app.invoke(inputs)"
   ]
  },
  {
   "cell_type": "code",
   "execution_count": 24,
   "metadata": {
    "colab": {
     "base_uri": "https://localhost:8080/"
    },
    "id": "zdwMgR5Ag6pi",
    "outputId": "f107fe06-29e5-4686-de05-2612956e9fef"
   },
   "outputs": [
    {
     "data": {
      "text/plain": [
       "{'messages': [SystemMessage(content='you are a helpful assistant', additional_kwargs={}, response_metadata={}),\n",
       "  HumanMessage(content='what is a Merlion?', additional_kwargs={}, response_metadata={}),\n",
       "  AIMessage(content=\"The Merlion is a mythical creature and a national symbol of Singapore. It has the body of a fish (typically a lionfish) and the head of a lion. The name 'Merlion' is a combination of the words 'mermaid' (or 'mer' as in 'fish') and 'lion.'\\n\\nAccording to legend, the Merlion was created by Prince Sang Nila Utama, a prince from the Malay kingdom of Palembang. In the 14th century, the prince sailed to the island of Temasek (now Singapore) and saw a majestic lion on the island. He decided to name the island 'Singapura,' which means 'lion city' in Sanskrit.\\n\\nHowever, the Merlion statue that is famous today was actually designed by Fraser Brunner, a British artist, in 1964, as part of a campaign to promote Singapore as a tourist destination. The most famous Merlion statue is located at Merlion Park in Singapore, and it has become a popular tourist attraction.\\n\\nThe Merlion represents the country's history, its connection to the sea, and its strength and courage. It has also become a symbol of Singapore's unique cultural identity and is often featured in the country's branding and marketing campaigns.\", additional_kwargs={}, response_metadata={'finish_reason': 'stop', 'model_name': 'llama3.1-70b', 'system_fingerprint': 'fp_fe26f95222'}, id='run-67145144-d703-4758-b962-e7eeb9a3d4fa-0', usage_metadata={'input_tokens': 46, 'output_tokens': 254, 'total_tokens': 300, 'input_token_details': {}, 'output_token_details': {}})]}"
      ]
     },
     "execution_count": 24,
     "metadata": {},
     "output_type": "execute_result"
    }
   ],
   "source": [
    "from langchain_core.messages import HumanMessage, SystemMessage\n",
    "# inputs = {\"input\": \"give me a random number and then write in words and make it lower case\", \"chat_history\": []}\n",
    "\n",
    "system_message = SystemMessage(content=\"you are a helpful assistant\")\n",
    "# user_01 = HumanMessage(content=\"give me a random number and then write in words and make it lower case\")\n",
    "# user_01 = HumanMessage(content=\"plear write 'Merlion' in lower case\")\n",
    "user_01 = HumanMessage(content=\"what is a Merlion?\")\n",
    "\n",
    "inputs = {\"messages\": [system_message,user_01]}\n",
    "\n",
    "app.invoke(inputs)"
   ]
  }
 ],
 "metadata": {
  "colab": {
   "provenance": []
  },
  "kernelspec": {
   "display_name": "TheVirtualEnv",
   "language": "python",
   "name": "thevirtualenv"
  },
  "language_info": {
   "codemirror_mode": {
    "name": "ipython",
    "version": 3
   },
   "file_extension": ".py",
   "mimetype": "text/x-python",
   "name": "python",
   "nbconvert_exporter": "python",
   "pygments_lexer": "ipython3",
   "version": "3.12.6"
  }
 },
 "nbformat": 4,
 "nbformat_minor": 0
}
